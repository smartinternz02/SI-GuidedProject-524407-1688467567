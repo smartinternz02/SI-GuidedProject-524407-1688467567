{
 "cells": [
  {
   "cell_type": "markdown",
   "id": "d1bd64e6",
   "metadata": {},
   "source": [
    "# NAME : SUJANA KOLA\n",
    "# Reg No : 20MIS0171"
   ]
  },
  {
   "cell_type": "code",
   "execution_count": 1,
   "id": "64e8c1d8",
   "metadata": {},
   "outputs": [],
   "source": [
    "# import the necessary library\n",
    "import numpy as np\n",
    "import pandas as pd\n",
    "import matplotlib.pyplot as plt\n",
    "import seaborn as sns\n",
    "from sklearn.preprocessing import OneHotEncoder, LabelEncoder"
   ]
  },
  {
   "cell_type": "markdown",
   "id": "67b9bde3",
   "metadata": {},
   "source": [
    "# 2. Load the dataset into the tool."
   ]
  },
  {
   "cell_type": "code",
   "execution_count": 2,
   "id": "195b6a8f",
   "metadata": {},
   "outputs": [],
   "source": [
    "#load the dataset\n",
    "df=pd.read_csv('Housing.csv')"
   ]
  },
  {
   "cell_type": "code",
   "execution_count": 3,
   "id": "4537d55a",
   "metadata": {},
   "outputs": [
    {
     "data": {
      "text/html": [
       "<div>\n",
       "<style scoped>\n",
       "    .dataframe tbody tr th:only-of-type {\n",
       "        vertical-align: middle;\n",
       "    }\n",
       "\n",
       "    .dataframe tbody tr th {\n",
       "        vertical-align: top;\n",
       "    }\n",
       "\n",
       "    .dataframe thead th {\n",
       "        text-align: right;\n",
       "    }\n",
       "</style>\n",
       "<table border=\"1\" class=\"dataframe\">\n",
       "  <thead>\n",
       "    <tr style=\"text-align: right;\">\n",
       "      <th></th>\n",
       "      <th>price</th>\n",
       "      <th>area</th>\n",
       "      <th>bedrooms</th>\n",
       "      <th>bathrooms</th>\n",
       "      <th>stories</th>\n",
       "      <th>mainroad</th>\n",
       "      <th>guestroom</th>\n",
       "      <th>basement</th>\n",
       "      <th>hotwaterheating</th>\n",
       "      <th>airconditioning</th>\n",
       "      <th>parking</th>\n",
       "      <th>furnishingstatus</th>\n",
       "    </tr>\n",
       "  </thead>\n",
       "  <tbody>\n",
       "    <tr>\n",
       "      <th>0</th>\n",
       "      <td>13300000</td>\n",
       "      <td>7420</td>\n",
       "      <td>4</td>\n",
       "      <td>2</td>\n",
       "      <td>3</td>\n",
       "      <td>yes</td>\n",
       "      <td>no</td>\n",
       "      <td>no</td>\n",
       "      <td>no</td>\n",
       "      <td>yes</td>\n",
       "      <td>2</td>\n",
       "      <td>furnished</td>\n",
       "    </tr>\n",
       "    <tr>\n",
       "      <th>1</th>\n",
       "      <td>12250000</td>\n",
       "      <td>8960</td>\n",
       "      <td>4</td>\n",
       "      <td>4</td>\n",
       "      <td>4</td>\n",
       "      <td>yes</td>\n",
       "      <td>no</td>\n",
       "      <td>no</td>\n",
       "      <td>no</td>\n",
       "      <td>yes</td>\n",
       "      <td>3</td>\n",
       "      <td>furnished</td>\n",
       "    </tr>\n",
       "    <tr>\n",
       "      <th>2</th>\n",
       "      <td>12250000</td>\n",
       "      <td>9960</td>\n",
       "      <td>3</td>\n",
       "      <td>2</td>\n",
       "      <td>2</td>\n",
       "      <td>yes</td>\n",
       "      <td>no</td>\n",
       "      <td>yes</td>\n",
       "      <td>no</td>\n",
       "      <td>no</td>\n",
       "      <td>2</td>\n",
       "      <td>semi-furnished</td>\n",
       "    </tr>\n",
       "    <tr>\n",
       "      <th>3</th>\n",
       "      <td>12215000</td>\n",
       "      <td>7500</td>\n",
       "      <td>4</td>\n",
       "      <td>2</td>\n",
       "      <td>2</td>\n",
       "      <td>yes</td>\n",
       "      <td>no</td>\n",
       "      <td>yes</td>\n",
       "      <td>no</td>\n",
       "      <td>yes</td>\n",
       "      <td>3</td>\n",
       "      <td>furnished</td>\n",
       "    </tr>\n",
       "    <tr>\n",
       "      <th>4</th>\n",
       "      <td>11410000</td>\n",
       "      <td>7420</td>\n",
       "      <td>4</td>\n",
       "      <td>1</td>\n",
       "      <td>2</td>\n",
       "      <td>yes</td>\n",
       "      <td>yes</td>\n",
       "      <td>yes</td>\n",
       "      <td>no</td>\n",
       "      <td>yes</td>\n",
       "      <td>2</td>\n",
       "      <td>furnished</td>\n",
       "    </tr>\n",
       "    <tr>\n",
       "      <th>...</th>\n",
       "      <td>...</td>\n",
       "      <td>...</td>\n",
       "      <td>...</td>\n",
       "      <td>...</td>\n",
       "      <td>...</td>\n",
       "      <td>...</td>\n",
       "      <td>...</td>\n",
       "      <td>...</td>\n",
       "      <td>...</td>\n",
       "      <td>...</td>\n",
       "      <td>...</td>\n",
       "      <td>...</td>\n",
       "    </tr>\n",
       "    <tr>\n",
       "      <th>540</th>\n",
       "      <td>1820000</td>\n",
       "      <td>3000</td>\n",
       "      <td>2</td>\n",
       "      <td>1</td>\n",
       "      <td>1</td>\n",
       "      <td>yes</td>\n",
       "      <td>no</td>\n",
       "      <td>yes</td>\n",
       "      <td>no</td>\n",
       "      <td>no</td>\n",
       "      <td>2</td>\n",
       "      <td>unfurnished</td>\n",
       "    </tr>\n",
       "    <tr>\n",
       "      <th>541</th>\n",
       "      <td>1767150</td>\n",
       "      <td>2400</td>\n",
       "      <td>3</td>\n",
       "      <td>1</td>\n",
       "      <td>1</td>\n",
       "      <td>no</td>\n",
       "      <td>no</td>\n",
       "      <td>no</td>\n",
       "      <td>no</td>\n",
       "      <td>no</td>\n",
       "      <td>0</td>\n",
       "      <td>semi-furnished</td>\n",
       "    </tr>\n",
       "    <tr>\n",
       "      <th>542</th>\n",
       "      <td>1750000</td>\n",
       "      <td>3620</td>\n",
       "      <td>2</td>\n",
       "      <td>1</td>\n",
       "      <td>1</td>\n",
       "      <td>yes</td>\n",
       "      <td>no</td>\n",
       "      <td>no</td>\n",
       "      <td>no</td>\n",
       "      <td>no</td>\n",
       "      <td>0</td>\n",
       "      <td>unfurnished</td>\n",
       "    </tr>\n",
       "    <tr>\n",
       "      <th>543</th>\n",
       "      <td>1750000</td>\n",
       "      <td>2910</td>\n",
       "      <td>3</td>\n",
       "      <td>1</td>\n",
       "      <td>1</td>\n",
       "      <td>no</td>\n",
       "      <td>no</td>\n",
       "      <td>no</td>\n",
       "      <td>no</td>\n",
       "      <td>no</td>\n",
       "      <td>0</td>\n",
       "      <td>furnished</td>\n",
       "    </tr>\n",
       "    <tr>\n",
       "      <th>544</th>\n",
       "      <td>1750000</td>\n",
       "      <td>3850</td>\n",
       "      <td>3</td>\n",
       "      <td>1</td>\n",
       "      <td>2</td>\n",
       "      <td>yes</td>\n",
       "      <td>no</td>\n",
       "      <td>no</td>\n",
       "      <td>no</td>\n",
       "      <td>no</td>\n",
       "      <td>0</td>\n",
       "      <td>unfurnished</td>\n",
       "    </tr>\n",
       "  </tbody>\n",
       "</table>\n",
       "<p>545 rows × 12 columns</p>\n",
       "</div>"
      ],
      "text/plain": [
       "        price  area  bedrooms  bathrooms  stories mainroad guestroom basement  \\\n",
       "0    13300000  7420         4          2        3      yes        no       no   \n",
       "1    12250000  8960         4          4        4      yes        no       no   \n",
       "2    12250000  9960         3          2        2      yes        no      yes   \n",
       "3    12215000  7500         4          2        2      yes        no      yes   \n",
       "4    11410000  7420         4          1        2      yes       yes      yes   \n",
       "..        ...   ...       ...        ...      ...      ...       ...      ...   \n",
       "540   1820000  3000         2          1        1      yes        no      yes   \n",
       "541   1767150  2400         3          1        1       no        no       no   \n",
       "542   1750000  3620         2          1        1      yes        no       no   \n",
       "543   1750000  2910         3          1        1       no        no       no   \n",
       "544   1750000  3850         3          1        2      yes        no       no   \n",
       "\n",
       "    hotwaterheating airconditioning  parking furnishingstatus  \n",
       "0                no             yes        2        furnished  \n",
       "1                no             yes        3        furnished  \n",
       "2                no              no        2   semi-furnished  \n",
       "3                no             yes        3        furnished  \n",
       "4                no             yes        2        furnished  \n",
       "..              ...             ...      ...              ...  \n",
       "540              no              no        2      unfurnished  \n",
       "541              no              no        0   semi-furnished  \n",
       "542              no              no        0      unfurnished  \n",
       "543              no              no        0        furnished  \n",
       "544              no              no        0      unfurnished  \n",
       "\n",
       "[545 rows x 12 columns]"
      ]
     },
     "execution_count": 3,
     "metadata": {},
     "output_type": "execute_result"
    }
   ],
   "source": [
    "df"
   ]
  },
  {
   "cell_type": "code",
   "execution_count": 4,
   "id": "83a441c9",
   "metadata": {},
   "outputs": [
    {
     "data": {
      "text/html": [
       "<div>\n",
       "<style scoped>\n",
       "    .dataframe tbody tr th:only-of-type {\n",
       "        vertical-align: middle;\n",
       "    }\n",
       "\n",
       "    .dataframe tbody tr th {\n",
       "        vertical-align: top;\n",
       "    }\n",
       "\n",
       "    .dataframe thead th {\n",
       "        text-align: right;\n",
       "    }\n",
       "</style>\n",
       "<table border=\"1\" class=\"dataframe\">\n",
       "  <thead>\n",
       "    <tr style=\"text-align: right;\">\n",
       "      <th></th>\n",
       "      <th>price</th>\n",
       "      <th>area</th>\n",
       "      <th>bedrooms</th>\n",
       "      <th>bathrooms</th>\n",
       "      <th>stories</th>\n",
       "      <th>mainroad</th>\n",
       "      <th>guestroom</th>\n",
       "      <th>basement</th>\n",
       "      <th>hotwaterheating</th>\n",
       "      <th>airconditioning</th>\n",
       "      <th>parking</th>\n",
       "      <th>furnishingstatus</th>\n",
       "    </tr>\n",
       "  </thead>\n",
       "  <tbody>\n",
       "    <tr>\n",
       "      <th>0</th>\n",
       "      <td>13300000</td>\n",
       "      <td>7420</td>\n",
       "      <td>4</td>\n",
       "      <td>2</td>\n",
       "      <td>3</td>\n",
       "      <td>yes</td>\n",
       "      <td>no</td>\n",
       "      <td>no</td>\n",
       "      <td>no</td>\n",
       "      <td>yes</td>\n",
       "      <td>2</td>\n",
       "      <td>furnished</td>\n",
       "    </tr>\n",
       "    <tr>\n",
       "      <th>1</th>\n",
       "      <td>12250000</td>\n",
       "      <td>8960</td>\n",
       "      <td>4</td>\n",
       "      <td>4</td>\n",
       "      <td>4</td>\n",
       "      <td>yes</td>\n",
       "      <td>no</td>\n",
       "      <td>no</td>\n",
       "      <td>no</td>\n",
       "      <td>yes</td>\n",
       "      <td>3</td>\n",
       "      <td>furnished</td>\n",
       "    </tr>\n",
       "    <tr>\n",
       "      <th>2</th>\n",
       "      <td>12250000</td>\n",
       "      <td>9960</td>\n",
       "      <td>3</td>\n",
       "      <td>2</td>\n",
       "      <td>2</td>\n",
       "      <td>yes</td>\n",
       "      <td>no</td>\n",
       "      <td>yes</td>\n",
       "      <td>no</td>\n",
       "      <td>no</td>\n",
       "      <td>2</td>\n",
       "      <td>semi-furnished</td>\n",
       "    </tr>\n",
       "    <tr>\n",
       "      <th>3</th>\n",
       "      <td>12215000</td>\n",
       "      <td>7500</td>\n",
       "      <td>4</td>\n",
       "      <td>2</td>\n",
       "      <td>2</td>\n",
       "      <td>yes</td>\n",
       "      <td>no</td>\n",
       "      <td>yes</td>\n",
       "      <td>no</td>\n",
       "      <td>yes</td>\n",
       "      <td>3</td>\n",
       "      <td>furnished</td>\n",
       "    </tr>\n",
       "    <tr>\n",
       "      <th>4</th>\n",
       "      <td>11410000</td>\n",
       "      <td>7420</td>\n",
       "      <td>4</td>\n",
       "      <td>1</td>\n",
       "      <td>2</td>\n",
       "      <td>yes</td>\n",
       "      <td>yes</td>\n",
       "      <td>yes</td>\n",
       "      <td>no</td>\n",
       "      <td>yes</td>\n",
       "      <td>2</td>\n",
       "      <td>furnished</td>\n",
       "    </tr>\n",
       "  </tbody>\n",
       "</table>\n",
       "</div>"
      ],
      "text/plain": [
       "      price  area  bedrooms  bathrooms  stories mainroad guestroom basement  \\\n",
       "0  13300000  7420         4          2        3      yes        no       no   \n",
       "1  12250000  8960         4          4        4      yes        no       no   \n",
       "2  12250000  9960         3          2        2      yes        no      yes   \n",
       "3  12215000  7500         4          2        2      yes        no      yes   \n",
       "4  11410000  7420         4          1        2      yes       yes      yes   \n",
       "\n",
       "  hotwaterheating airconditioning  parking furnishingstatus  \n",
       "0              no             yes        2        furnished  \n",
       "1              no             yes        3        furnished  \n",
       "2              no              no        2   semi-furnished  \n",
       "3              no             yes        3        furnished  \n",
       "4              no             yes        2        furnished  "
      ]
     },
     "execution_count": 4,
     "metadata": {},
     "output_type": "execute_result"
    }
   ],
   "source": [
    "df.head()"
   ]
  },
  {
   "cell_type": "code",
   "execution_count": 5,
   "id": "150fb6df",
   "metadata": {
    "scrolled": true
   },
   "outputs": [
    {
     "data": {
      "text/plain": [
       "(545, 12)"
      ]
     },
     "execution_count": 5,
     "metadata": {},
     "output_type": "execute_result"
    }
   ],
   "source": [
    "df.shape"
   ]
  },
  {
   "cell_type": "markdown",
   "id": "8ceba88e",
   "metadata": {},
   "source": [
    "# 3. Perform Below Visualizations.\n",
    "i) Univariate Analysis\n",
    "ii) Bi-Variate Analysis\n",
    "iii) Multi-Variate Analysis"
   ]
  },
  {
   "cell_type": "code",
   "execution_count": 6,
   "id": "32aed594",
   "metadata": {},
   "outputs": [
    {
     "data": {
      "image/png": "[encoded data removed]",
      "text/plain": [
       "<Figure size 640x480 with 1 Axes>"
      ]
     },
     "metadata": {},
     "output_type": "display_data"
    }
   ],
   "source": [
    "# i) Univariate Analysis\n",
    "# Create a histogram for the 'Area' variable\n",
    "plt.hist(df['area'], bins=20)\n",
    "plt.xlabel('area')\n",
    "plt.ylabel('count')\n",
    "plt.title('Distribution of Area')\n",
    "plt.show()"
   ]
  },
  {
   "cell_type": "code",
   "execution_count": 7,
   "id": "b2697973",
   "metadata": {},
   "outputs": [
    {
     "data": {
      "image/png": "[encoded data removed]",
      "text/plain": [
       "<Figure size 640x480 with 1 Axes>"
      ]
     },
     "metadata": {},
     "output_type": "display_data"
    }
   ],
   "source": [
    "# Create a bar plot for the 'Bedrooms' variable\n",
    "sns.countplot(data=df, x='bedrooms')\n",
    "plt.title('Bedrooms Distribution')\n",
    "plt.xlabel('Number of Bedrooms')\n",
    "plt.ylabel('Count')\n",
    "plt.show()"
   ]
  },
  {
   "cell_type": "code",
   "execution_count": 8,
   "id": "dbf02844",
   "metadata": {},
   "outputs": [
    {
     "data": {
      "image/png": "[encoded data removed]",
      "text/plain": [
       "<Figure size 640x480 with 1 Axes>"
      ]
     },
     "metadata": {},
     "output_type": "display_data"
    }
   ],
   "source": [
    "# ii) Bi-Variate Analysis\n",
    "# Create a scatter plot of Age vs Fare\n",
    "plt.scatter(df['area'], df['price'])\n",
    "plt.xlabel('area')\n",
    "plt.ylabel('price')\n",
    "plt.title('Area vs Price')\n",
    "plt.show()"
   ]
  },
  {
   "cell_type": "code",
   "execution_count": 9,
   "id": "04cb42ab",
   "metadata": {},
   "outputs": [
    {
     "name": "stderr",
     "output_type": "stream",
     "text": [
      "C:\\Users\\Sujana Kola\\AppData\\Local\\Temp\\ipykernel_20188\\3561848009.py:4: FutureWarning: The default value of numeric_only in DataFrame.corr is deprecated. In a future version, it will default to False. Select only valid columns or specify the value of numeric_only to silence this warning.\n",
      "  corr_matrix = df.corr()\n"
     ]
    },
    {
     "data": {
      "image/png": "[encoded data removed]",
      "text/plain": [
       "<Figure size 640x480 with 2 Axes>"
      ]
     },
     "metadata": {},
     "output_type": "display_data"
    }
   ],
   "source": [
    "# iii) Multivariate Analysis\n",
    "# ----------------------------------------\n",
    "# Heatmap of correlation matrix\n",
    "corr_matrix = df.corr()\n",
    "sns.heatmap(corr_matrix, annot=True, cmap='coolwarm')\n",
    "plt.title('Correlation Matrix')\n",
    "plt.show()"
   ]
  },
  {
   "cell_type": "markdown",
   "id": "73aad7b8",
   "metadata": {},
   "source": [
    "# 4. Perform descriptive statistics on the dataset."
   ]
  },
  {
   "cell_type": "code",
   "execution_count": 10,
   "id": "9ddd4c12",
   "metadata": {},
   "outputs": [
    {
     "name": "stdout",
     "output_type": "stream",
     "text": [
      "              price          area    bedrooms   bathrooms     stories  \\\n",
      "count  5.450000e+02    545.000000  545.000000  545.000000  545.000000   \n",
      "mean   4.766729e+06   5150.541284    2.965138    1.286239    1.805505   \n",
      "std    1.870440e+06   2170.141023    0.738064    0.502470    0.867492   \n",
      "min    1.750000e+06   1650.000000    1.000000    1.000000    1.000000   \n",
      "25%    3.430000e+06   3600.000000    2.000000    1.000000    1.000000   \n",
      "50%    4.340000e+06   4600.000000    3.000000    1.000000    2.000000   \n",
      "75%    5.740000e+06   6360.000000    3.000000    2.000000    2.000000   \n",
      "max    1.330000e+07  16200.000000    6.000000    4.000000    4.000000   \n",
      "\n",
      "          parking  \n",
      "count  545.000000  \n",
      "mean     0.693578  \n",
      "std      0.861586  \n",
      "min      0.000000  \n",
      "25%      0.000000  \n",
      "50%      0.000000  \n",
      "75%      1.000000  \n",
      "max      3.000000  \n"
     ]
    }
   ],
   "source": [
    "# Descriptive Statistics\n",
    "statistics = df.describe()\n",
    "\n",
    "# Print the descriptive statistics\n",
    "print(statistics)"
   ]
  },
  {
   "cell_type": "markdown",
   "id": "a48a6432",
   "metadata": {},
   "source": [
    "# 5. Check for Missing values and deal with them."
   ]
  },
  {
   "cell_type": "code",
   "execution_count": 11,
   "id": "4bc2b312",
   "metadata": {},
   "outputs": [
    {
     "name": "stdout",
     "output_type": "stream",
     "text": [
      "<class 'pandas.core.frame.DataFrame'>\n",
      "RangeIndex: 545 entries, 0 to 544\n",
      "Data columns (total 12 columns):\n",
      " #   Column            Non-Null Count  Dtype \n",
      "---  ------            --------------  ----- \n",
      " 0   price             545 non-null    int64 \n",
      " 1   area              545 non-null    int64 \n",
      " 2   bedrooms          545 non-null    int64 \n",
      " 3   bathrooms         545 non-null    int64 \n",
      " 4   stories           545 non-null    int64 \n",
      " 5   mainroad          545 non-null    object\n",
      " 6   guestroom         545 non-null    object\n",
      " 7   basement          545 non-null    object\n",
      " 8   hotwaterheating   545 non-null    object\n",
      " 9   airconditioning   545 non-null    object\n",
      " 10  parking           545 non-null    int64 \n",
      " 11  furnishingstatus  545 non-null    object\n",
      "dtypes: int64(6), object(6)\n",
      "memory usage: 51.2+ KB\n"
     ]
    }
   ],
   "source": [
    "df.info()"
   ]
  },
  {
   "cell_type": "code",
   "execution_count": 12,
   "id": "64c13c14",
   "metadata": {},
   "outputs": [
    {
     "name": "stdout",
     "output_type": "stream",
     "text": [
      "price               0\n",
      "area                0\n",
      "bedrooms            0\n",
      "bathrooms           0\n",
      "stories             0\n",
      "mainroad            0\n",
      "guestroom           0\n",
      "basement            0\n",
      "hotwaterheating     0\n",
      "airconditioning     0\n",
      "parking             0\n",
      "furnishingstatus    0\n",
      "dtype: int64\n"
     ]
    }
   ],
   "source": [
    "missing_values = df.isnull().sum()\n",
    "print(missing_values)"
   ]
  },
  {
   "cell_type": "code",
   "execution_count": 13,
   "id": "c3412f37",
   "metadata": {},
   "outputs": [
    {
     "name": "stdout",
     "output_type": "stream",
     "text": [
      "price               0\n",
      "area                0\n",
      "bedrooms            0\n",
      "bathrooms           0\n",
      "stories             0\n",
      "mainroad            0\n",
      "guestroom           0\n",
      "basement            0\n",
      "hotwaterheating     0\n",
      "airconditioning     0\n",
      "parking             0\n",
      "furnishingstatus    0\n",
      "dtype: int64\n",
      "price               0\n",
      "area                0\n",
      "bedrooms            0\n",
      "bathrooms           0\n",
      "stories             0\n",
      "mainroad            0\n",
      "guestroom           0\n",
      "basement            0\n",
      "hotwaterheating     0\n",
      "airconditioning     0\n",
      "parking             0\n",
      "furnishingstatus    0\n",
      "dtype: int64\n"
     ]
    }
   ],
   "source": [
    "# Check for missing values\n",
    "missing_values = df.isnull().sum()\n",
    "print(missing_values)\n",
    "\n",
    "# Deal with missing values\n",
    "# Option 1: Drop rows with missing values\n",
    "df.dropna(inplace=True)\n",
    "\n",
    "# Option 2: Fill missing values with a specific value\n",
    "# For numerical columns, you can use mean, median, or a constant value\n",
    "df['area'].fillna(df['area'].mean(), inplace=True)\n",
    "\n",
    "# For categorical columns, you can use mode or a specific category\n",
    "df['furnishingstatus'].fillna('Unknown', inplace=True)\n",
    "\n",
    "# Verify if missing values have been handled\n",
    "missing_values_after = df.isnull().sum()\n",
    "print(missing_values_after)\n"
   ]
  },
  {
   "cell_type": "markdown",
   "id": "80b89ff0",
   "metadata": {},
   "source": [
    "# 6. Find the outliers and replace them outliers"
   ]
  },
  {
   "cell_type": "code",
   "execution_count": 14,
   "id": "8281fa8d",
   "metadata": {},
   "outputs": [],
   "source": [
    "# Find outliers\n",
    "# Choose the numerical columns for outlier detection\n",
    "numerical_columns = ['area', 'bedrooms', 'bathrooms', 'stories', 'parking']\n",
    "\n",
    "# Iterate over each numerical column\n",
    "for column in numerical_columns:\n",
    "    # Calculate the z-score for each value in the column\n",
    "    z_scores = np.abs((df[column] - df[column].mean()) / df[column].std())\n",
    "    \n",
    "    # Set a threshold for identifying outliers (e.g., z-score > 3)\n",
    "    threshold = 3\n",
    "    \n",
    "    # Replace outliers with the median value\n",
    "    df[column] = np.where(z_scores > threshold, df[column].median(), df[column])\n"
   ]
  },
  {
   "cell_type": "code",
   "execution_count": 15,
   "id": "978a7f84",
   "metadata": {},
   "outputs": [
    {
     "data": {
      "text/plain": [
       "<bound method NDFrame.describe of         price    area  bedrooms  bathrooms  stories mainroad guestroom  \\\n",
       "0    13300000  7420.0       4.0        2.0      3.0      yes        no   \n",
       "1    12250000  8960.0       4.0        1.0      4.0      yes        no   \n",
       "2    12250000  9960.0       3.0        2.0      2.0      yes        no   \n",
       "3    12215000  7500.0       4.0        2.0      2.0      yes        no   \n",
       "4    11410000  7420.0       4.0        1.0      2.0      yes       yes   \n",
       "..        ...     ...       ...        ...      ...      ...       ...   \n",
       "540   1820000  3000.0       2.0        1.0      1.0      yes        no   \n",
       "541   1767150  2400.0       3.0        1.0      1.0       no        no   \n",
       "542   1750000  3620.0       2.0        1.0      1.0      yes        no   \n",
       "543   1750000  2910.0       3.0        1.0      1.0       no        no   \n",
       "544   1750000  3850.0       3.0        1.0      2.0      yes        no   \n",
       "\n",
       "    basement hotwaterheating airconditioning  parking furnishingstatus  \n",
       "0         no              no             yes      2.0        furnished  \n",
       "1         no              no             yes      3.0        furnished  \n",
       "2        yes              no              no      2.0   semi-furnished  \n",
       "3        yes              no             yes      3.0        furnished  \n",
       "4        yes              no             yes      2.0        furnished  \n",
       "..       ...             ...             ...      ...              ...  \n",
       "540      yes              no              no      2.0      unfurnished  \n",
       "541       no              no              no      0.0   semi-furnished  \n",
       "542       no              no              no      0.0      unfurnished  \n",
       "543       no              no              no      0.0        furnished  \n",
       "544       no              no              no      0.0      unfurnished  \n",
       "\n",
       "[545 rows x 12 columns]>"
      ]
     },
     "execution_count": 15,
     "metadata": {},
     "output_type": "execute_result"
    }
   ],
   "source": [
    "df.describe"
   ]
  },
  {
   "cell_type": "code",
   "execution_count": 16,
   "id": "edb9d389",
   "metadata": {},
   "outputs": [
    {
     "data": {
      "image/png": "[encoded data removed]",
      "text/plain": [
       "<Figure size 1000x600 with 5 Axes>"
      ]
     },
     "metadata": {},
     "output_type": "display_data"
    }
   ],
   "source": [
    "# Create box plots for each numerical column\n",
    "plt.figure(figsize=(10, 6))\n",
    "\n",
    "for col in numerical_columns:\n",
    "    plt.subplot(1, len(numerical_columns), numerical_columns.index(col) + 1)\n",
    "    sns.boxplot(x=df[col])\n",
    "    plt.title(f'Box Plot for {col}')\n",
    "    plt.xlabel(col)\n",
    "    plt.ylabel('Values')\n",
    "\n",
    "plt.tight_layout()\n",
    "plt.show()"
   ]
  },
  {
   "cell_type": "markdown",
   "id": "b7689880",
   "metadata": {},
   "source": [
    "# 7. Check for Categorical columns and perform encoding."
   ]
  },
  {
   "cell_type": "code",
   "execution_count": 17,
   "id": "8c8ca1f8",
   "metadata": {},
   "outputs": [],
   "source": [
    "# Identify categorical columns\n",
    "categorical_cols = ['mainroad', 'guestroom', 'basement', 'hotwaterheating', 'airconditioning', 'furnishingstatus']\n",
    "\n",
    "# Perform one-hot encoding\n",
    "# Create a new DataFrame to store the encoded features\n",
    "encoded_df = pd.get_dummies(df[categorical_cols], drop_first=True)"
   ]
  },
  {
   "cell_type": "code",
   "execution_count": 18,
   "id": "1817de7b",
   "metadata": {},
   "outputs": [],
   "source": [
    "# Concatenate the encoded features with the original dataset\n",
    "df_encoded = pd.concat([df, encoded_df], axis=1)"
   ]
  },
  {
   "cell_type": "code",
   "execution_count": 19,
   "id": "cbb6f362",
   "metadata": {},
   "outputs": [],
   "source": [
    "# Drop the original categorical columns\n",
    "df_encoded.drop(categorical_cols, axis=1, inplace=True)"
   ]
  },
  {
   "cell_type": "code",
   "execution_count": 20,
   "id": "53219213",
   "metadata": {},
   "outputs": [],
   "source": [
    "# Perform label encoding\n",
    "# Create a LabelEncoder object\n",
    "label_encoder = LabelEncoder()"
   ]
  },
  {
   "cell_type": "code",
   "execution_count": 21,
   "id": "516906f0",
   "metadata": {},
   "outputs": [
    {
     "name": "stdout",
     "output_type": "stream",
     "text": [
      "        price    area  bedrooms  bathrooms  stories  mainroad  guestroom  \\\n",
      "0    13300000  7420.0       4.0        2.0      3.0         1          0   \n",
      "1    12250000  8960.0       4.0        1.0      4.0         1          0   \n",
      "2    12250000  9960.0       3.0        2.0      2.0         1          0   \n",
      "3    12215000  7500.0       4.0        2.0      2.0         1          0   \n",
      "4    11410000  7420.0       4.0        1.0      2.0         1          1   \n",
      "..        ...     ...       ...        ...      ...       ...        ...   \n",
      "540   1820000  3000.0       2.0        1.0      1.0         1          0   \n",
      "541   1767150  2400.0       3.0        1.0      1.0         0          0   \n",
      "542   1750000  3620.0       2.0        1.0      1.0         1          0   \n",
      "543   1750000  2910.0       3.0        1.0      1.0         0          0   \n",
      "544   1750000  3850.0       3.0        1.0      2.0         1          0   \n",
      "\n",
      "     basement  hotwaterheating  airconditioning  parking  furnishingstatus  \n",
      "0           0                0                1      2.0                 0  \n",
      "1           0                0                1      3.0                 0  \n",
      "2           1                0                0      2.0                 1  \n",
      "3           1                0                1      3.0                 0  \n",
      "4           1                0                1      2.0                 0  \n",
      "..        ...              ...              ...      ...               ...  \n",
      "540         1                0                0      2.0                 2  \n",
      "541         0                0                0      0.0                 1  \n",
      "542         0                0                0      0.0                 2  \n",
      "543         0                0                0      0.0                 0  \n",
      "544         0                0                0      0.0                 2  \n",
      "\n",
      "[545 rows x 12 columns]\n"
     ]
    }
   ],
   "source": [
    "# Encode each categorical column\n",
    "for col in categorical_cols:\n",
    "    df[col] = label_encoder.fit_transform(df[col])\n",
    "\n",
    "# Print the updated DataFrame\n",
    "print(df)"
   ]
  },
  {
   "cell_type": "markdown",
   "id": "32943139",
   "metadata": {},
   "source": [
    "# 8. Split the data into dependent and independent variables. "
   ]
  },
  {
   "cell_type": "code",
   "execution_count": 22,
   "id": "8bb8089f",
   "metadata": {},
   "outputs": [],
   "source": [
    "# Split into dependent and independent variables\n",
    "X = df.drop('price', axis=1)  # Independent variables (features)\n",
    "y = df['price']  # Dependent variable (target)"
   ]
  },
  {
   "cell_type": "code",
   "execution_count": 23,
   "id": "1c91098a",
   "metadata": {},
   "outputs": [
    {
     "name": "stdout",
     "output_type": "stream",
     "text": [
      "Independent Variables (features):\n",
      "     area  bedrooms  bathrooms  stories  mainroad  guestroom  basement  \\\n",
      "0  7420.0       4.0        2.0      3.0         1          0         0   \n",
      "1  8960.0       4.0        1.0      4.0         1          0         0   \n",
      "2  9960.0       3.0        2.0      2.0         1          0         1   \n",
      "3  7500.0       4.0        2.0      2.0         1          0         1   \n",
      "4  7420.0       4.0        1.0      2.0         1          1         1   \n",
      "\n",
      "   hotwaterheating  airconditioning  parking  furnishingstatus  \n",
      "0                0                1      2.0                 0  \n",
      "1                0                1      3.0                 0  \n",
      "2                0                0      2.0                 1  \n",
      "3                0                1      3.0                 0  \n",
      "4                0                1      2.0                 0  \n"
     ]
    }
   ],
   "source": [
    "# Print the independent variables\n",
    "print('Independent Variables (features):')\n",
    "print(X.head())"
   ]
  },
  {
   "cell_type": "code",
   "execution_count": 24,
   "id": "51821c43",
   "metadata": {},
   "outputs": [
    {
     "name": "stdout",
     "output_type": "stream",
     "text": [
      "\n",
      "Dependent Variable (target):\n",
      "0    13300000\n",
      "1    12250000\n",
      "2    12250000\n",
      "3    12215000\n",
      "4    11410000\n",
      "Name: price, dtype: int64\n"
     ]
    }
   ],
   "source": [
    "# Print the dependent variable\n",
    "print('\\nDependent Variable (target):')\n",
    "print(y.head())"
   ]
  },
  {
   "cell_type": "markdown",
   "id": "5758b49f",
   "metadata": {},
   "source": [
    "# 9. Scale the independent variables"
   ]
  },
  {
   "cell_type": "code",
   "execution_count": 25,
   "id": "a3478716",
   "metadata": {},
   "outputs": [
    {
     "name": "stdout",
     "output_type": "stream",
     "text": [
      "       area  bedrooms  bathrooms   stories  mainroad  guestroom  basement  \\\n",
      "0  1.237672  1.464768   1.760041  1.378217  0.405623  -0.465315 -0.734539   \n",
      "1  2.036247  1.464768  -0.568169  2.532024  0.405623  -0.465315 -0.734539   \n",
      "2  2.554802  0.064244   1.760041  0.224410  0.405623  -0.465315  1.361397   \n",
      "3  1.279156  1.464768   1.760041  0.224410  0.405623  -0.465315  1.361397   \n",
      "4  1.237672  1.464768  -0.568169  0.224410  0.405623   2.149083  1.361397   \n",
      "\n",
      "   hotwaterheating  airconditioning   parking  furnishingstatus  \n",
      "0        -0.219265         1.472618  1.517692         -1.406286  \n",
      "1        -0.219265         1.472618  2.679409         -1.406286  \n",
      "2        -0.219265        -0.679063  1.517692         -0.091662  \n",
      "3        -0.219265         1.472618  2.679409         -1.406286  \n",
      "4        -0.219265         1.472618  1.517692         -1.406286  \n"
     ]
    }
   ],
   "source": [
    "from sklearn.preprocessing import StandardScaler\n",
    "\n",
    "# Split into dependent and independent variables\n",
    "X = df.drop('price', axis=1)  # Independent variables (features)\n",
    "y = df['price']  # Dependent variable (target)\n",
    "\n",
    "# Scale the independent variables\n",
    "scaler = StandardScaler()\n",
    "X_scaled = scaler.fit_transform(X)\n",
    "\n",
    "# Create a new DataFrame with the scaled independent variables\n",
    "df_scaled = pd.DataFrame(X_scaled, columns=X.columns)\n",
    "\n",
    "# Print the scaled independent variables\n",
    "print(df_scaled.head())"
   ]
  },
  {
   "cell_type": "markdown",
   "id": "2cbf4c4c",
   "metadata": {},
   "source": [
    "# 10. Split the data into training and testing"
   ]
  },
  {
   "cell_type": "code",
   "execution_count": 26,
   "id": "10fe8f15",
   "metadata": {},
   "outputs": [],
   "source": [
    "from sklearn.model_selection import train_test_split"
   ]
  },
  {
   "cell_type": "code",
   "execution_count": 27,
   "id": "73cb4d8d",
   "metadata": {},
   "outputs": [
    {
     "name": "stdout",
     "output_type": "stream",
     "text": [
      "Train set shape: (436, 11) (436,)\n",
      "Test set shape: (109, 11) (109,)\n"
     ]
    }
   ],
   "source": [
    "# Split the data into train and test sets\n",
    "X_train, X_test, y_train, y_test = train_test_split(X, y, test_size=0.2, random_state=42)\n",
    "\n",
    "# Print the shape of train and test sets\n",
    "print('Train set shape:', X_train.shape, y_train.shape)\n",
    "print('Test set shape:', X_test.shape, y_test.shape)"
   ]
  },
  {
   "cell_type": "markdown",
   "id": "a20f78f4",
   "metadata": {},
   "source": [
    "# 11. Build the Model"
   ]
  },
  {
   "cell_type": "markdown",
   "id": "8256ad10",
   "metadata": {},
   "source": [
    "## Linear Regression"
   ]
  },
  {
   "cell_type": "code",
   "execution_count": 28,
   "id": "e7d5ee33",
   "metadata": {},
   "outputs": [],
   "source": [
    "#Model Building\n",
    "from sklearn.linear_model import LinearRegression\n",
    "lr=LinearRegression()"
   ]
  },
  {
   "cell_type": "markdown",
   "id": "837cd98d",
   "metadata": {},
   "source": [
    "# 12. Train the Model"
   ]
  },
  {
   "cell_type": "code",
   "execution_count": 29,
   "id": "dddbcf5d",
   "metadata": {},
   "outputs": [
    {
     "data": {
      "text/html": [
       "<style>#sk-container-id-1 {color: black;background-color: white;}#sk-container-id-1 pre{padding: 0;}#sk-container-id-1 div.sk-toggleable {background-color: white;}#sk-container-id-1 label.sk-toggleable__label {cursor: pointer;display: block;width: 100%;margin-bottom: 0;padding: 0.3em;box-sizing: border-box;text-align: center;}#sk-container-id-1 label.sk-toggleable__label-arrow:before {content: \"▸\";float: left;margin-right: 0.25em;color: #696969;}#sk-container-id-1 label.sk-toggleable__label-arrow:hover:before {color: black;}#sk-container-id-1 div.sk-estimator:hover label.sk-toggleable__label-arrow:before {color: black;}#sk-container-id-1 div.sk-toggleable__content {max-height: 0;max-width: 0;overflow: hidden;text-align: left;background-color: #f0f8ff;}#sk-container-id-1 div.sk-toggleable__content pre {margin: 0.2em;color: black;border-radius: 0.25em;background-color: #f0f8ff;}#sk-container-id-1 input.sk-toggleable__control:checked~div.sk-toggleable__content {max-height: 200px;max-width: 100%;overflow: auto;}#sk-container-id-1 input.sk-toggleable__control:checked~label.sk-toggleable__label-arrow:before {content: \"▾\";}#sk-container-id-1 div.sk-estimator input.sk-toggleable__control:checked~label.sk-toggleable__label {background-color: #d4ebff;}#sk-container-id-1 div.sk-label input.sk-toggleable__control:checked~label.sk-toggleable__label {background-color: #d4ebff;}#sk-container-id-1 input.sk-hidden--visually {border: 0;clip: rect(1px 1px 1px 1px);clip: rect(1px, 1px, 1px, 1px);height: 1px;margin: -1px;overflow: hidden;padding: 0;position: absolute;width: 1px;}#sk-container-id-1 div.sk-estimator {font-family: monospace;background-color: #f0f8ff;border: 1px dotted black;border-radius: 0.25em;box-sizing: border-box;margin-bottom: 0.5em;}#sk-container-id-1 div.sk-estimator:hover {background-color: #d4ebff;}#sk-container-id-1 div.sk-parallel-item::after {content: \"\";width: 100%;border-bottom: 1px solid gray;flex-grow: 1;}#sk-container-id-1 div.sk-label:hover label.sk-toggleable__label {background-color: #d4ebff;}#sk-container-id-1 div.sk-serial::before {content: \"\";position: absolute;border-left: 1px solid gray;box-sizing: border-box;top: 0;bottom: 0;left: 50%;z-index: 0;}#sk-container-id-1 div.sk-serial {display: flex;flex-direction: column;align-items: center;background-color: white;padding-right: 0.2em;padding-left: 0.2em;position: relative;}#sk-container-id-1 div.sk-item {position: relative;z-index: 1;}#sk-container-id-1 div.sk-parallel {display: flex;align-items: stretch;justify-content: center;background-color: white;position: relative;}#sk-container-id-1 div.sk-item::before, #sk-container-id-1 div.sk-parallel-item::before {content: \"\";position: absolute;border-left: 1px solid gray;box-sizing: border-box;top: 0;bottom: 0;left: 50%;z-index: -1;}#sk-container-id-1 div.sk-parallel-item {display: flex;flex-direction: column;z-index: 1;position: relative;background-color: white;}#sk-container-id-1 div.sk-parallel-item:first-child::after {align-self: flex-end;width: 50%;}#sk-container-id-1 div.sk-parallel-item:last-child::after {align-self: flex-start;width: 50%;}#sk-container-id-1 div.sk-parallel-item:only-child::after {width: 0;}#sk-container-id-1 div.sk-dashed-wrapped {border: 1px dashed gray;margin: 0 0.4em 0.5em 0.4em;box-sizing: border-box;padding-bottom: 0.4em;background-color: white;}#sk-container-id-1 div.sk-label label {font-family: monospace;font-weight: bold;display: inline-block;line-height: 1.2em;}#sk-container-id-1 div.sk-label-container {text-align: center;}#sk-container-id-1 div.sk-container {/* jupyter's `normalize.less` sets `[hidden] { display: none; }` but bootstrap.min.css set `[hidden] { display: none !important; }` so we also need the `!important` here to be able to override the default hidden behavior on the sphinx rendered scikit-learn.org. See: https://github.com/scikit-learn/scikit-learn/issues/21755 */display: inline-block !important;position: relative;}#sk-container-id-1 div.sk-text-repr-fallback {display: none;}</style><div id=\"sk-container-id-1\" class=\"sk-top-container\"><div class=\"sk-text-repr-fallback\"><pre>LinearRegression()</pre><b>In a Jupyter environment, please rerun this cell to show the HTML representation or trust the notebook. <br />On GitHub, the HTML representation is unable to render, please try loading this page with nbviewer.org.</b></div><div class=\"sk-container\" hidden><div class=\"sk-item\"><div class=\"sk-estimator sk-toggleable\"><input class=\"sk-toggleable__control sk-hidden--visually\" id=\"sk-estimator-id-1\" type=\"checkbox\" checked><label for=\"sk-estimator-id-1\" class=\"sk-toggleable__label sk-toggleable__label-arrow\">LinearRegression</label><div class=\"sk-toggleable__content\"><pre>LinearRegression()</pre></div></div></div></div></div>"
      ],
      "text/plain": [
       "LinearRegression()"
      ]
     },
     "execution_count": 29,
     "metadata": {},
     "output_type": "execute_result"
    }
   ],
   "source": [
    "#train the model\n",
    "lr.fit(X_train,y_train)"
   ]
  },
  {
   "cell_type": "markdown",
   "id": "10049306",
   "metadata": {},
   "source": [
    "# 13. Test the Model"
   ]
  },
  {
   "cell_type": "code",
   "execution_count": 30,
   "id": "efe75b7b",
   "metadata": {},
   "outputs": [],
   "source": [
    "#test the model \n",
    "y_pred=lr.predict(X_test)"
   ]
  },
  {
   "cell_type": "code",
   "execution_count": 31,
   "id": "6f4104d9",
   "metadata": {},
   "outputs": [
    {
     "data": {
      "text/plain": [
       "array([5327618.24432349, 6661225.71852434, 3146774.82368999,\n",
       "       4799680.48779868, 3576590.81412339, 3880656.13463682,\n",
       "       6140711.12446548, 5968138.78052963, 2660989.25786315,\n",
       "       2731027.89631691, 7321669.86537682, 2887263.13327927,\n",
       "       3105713.2967243 , 3471971.9050967 , 3979369.97260717,\n",
       "       3118252.54316049, 2972694.92992401, 5109929.42923843,\n",
       "       4763488.15991968, 3689592.40599697, 5356851.2298474 ,\n",
       "       5582723.44102849, 2808333.0256479 , 4394825.47388634,\n",
       "       5794337.32098249, 7220429.92436561, 3322026.06046194,\n",
       "       5195196.18504777, 5915396.09952809, 3479797.90532576,\n",
       "       5817234.24723268, 3537994.18168539, 6721832.03890723,\n",
       "       4472625.35885271, 3954702.8575406 , 5777432.68811963,\n",
       "       5122734.92108408, 4756723.57285764, 3261062.41845893,\n",
       "       4689516.07105647, 4986678.37340114, 3577396.75732955,\n",
       "       6639069.89883834, 4297408.20609991, 3897303.21555321,\n",
       "       4465370.34942018, 6683490.12438707, 4410926.56583877,\n",
       "       4027180.05612393, 3624933.41927787, 7388745.66990397,\n",
       "       2892050.36313676, 4673401.570568  , 4634024.48845876,\n",
       "       4109793.79719506, 2789186.92299266, 6846634.57665347,\n",
       "       3075135.37981987, 4648745.56154297, 2850152.13530522,\n",
       "       4730014.11695755, 3330210.34341741, 5376144.42720163,\n",
       "       4415163.89105886, 4421813.5575849 , 4891149.56033903,\n",
       "       6553098.3131587 , 3710730.65891443, 6530794.72759101,\n",
       "       6028225.30540396, 3997654.6133106 , 4792897.19183058,\n",
       "       4847878.65059524, 7720112.74251141, 3578860.61423414,\n",
       "       5549602.03884551, 4172849.18620193, 4135735.06575518,\n",
       "       5179346.37966497, 3765107.31631541, 7371182.46424954,\n",
       "       4297475.67193568, 6023584.89139131, 5118022.39523664,\n",
       "       2881271.95756737, 4993032.60540831, 2795020.97002287,\n",
       "       3859542.1672169 , 7664747.07508903, 6401835.9172096 ,\n",
       "       3584652.51012236, 6415596.08398866, 3767426.37498249,\n",
       "       3862724.81378745, 6217528.92018516, 5090700.42144098,\n",
       "       5457351.2733587 , 6397945.34584531, 4588023.32557086,\n",
       "       5593895.72073622, 4064839.56523269, 6470124.53555831,\n",
       "       3854044.33263637, 4023970.2120637 , 5520458.55664186,\n",
       "       4778683.37592527, 7168763.12987124, 6364239.726045  ,\n",
       "       5990673.34561592])"
      ]
     },
     "execution_count": 31,
     "metadata": {},
     "output_type": "execute_result"
    }
   ],
   "source": [
    "y_pred"
   ]
  },
  {
   "cell_type": "code",
   "execution_count": 32,
   "id": "2e507c36",
   "metadata": {},
   "outputs": [
    {
     "data": {
      "text/plain": [
       "316    4060000\n",
       "77     6650000\n",
       "360    3710000\n",
       "90     6440000\n",
       "493    2800000\n",
       "        ...   \n",
       "15     9100000\n",
       "357    3773000\n",
       "39     7910000\n",
       "54     7350000\n",
       "155    5530000\n",
       "Name: price, Length: 109, dtype: int64"
      ]
     },
     "execution_count": 32,
     "metadata": {},
     "output_type": "execute_result"
    }
   ],
   "source": [
    "y_test"
   ]
  },
  {
   "cell_type": "code",
   "execution_count": 33,
   "id": "a216a94f",
   "metadata": {},
   "outputs": [
    {
     "data": {
      "text/plain": [
       "316   -1.267618e+06\n",
       "77    -1.122572e+04\n",
       "360    5.632252e+05\n",
       "90     1.640320e+06\n",
       "493   -7.765908e+05\n",
       "           ...     \n",
       "15     3.579541e+06\n",
       "357   -1.005683e+06\n",
       "39     7.412369e+05\n",
       "54     9.857603e+05\n",
       "155   -4.606733e+05\n",
       "Name: price, Length: 109, dtype: float64"
      ]
     },
     "execution_count": 33,
     "metadata": {},
     "output_type": "execute_result"
    }
   ],
   "source": [
    "E=y_test-y_pred\n",
    "E"
   ]
  },
  {
   "cell_type": "markdown",
   "id": "b959f771",
   "metadata": {},
   "source": [
    "# 14. Measure the performance using Metrics."
   ]
  },
  {
   "cell_type": "code",
   "execution_count": 34,
   "id": "8ddaac9a",
   "metadata": {},
   "outputs": [
    {
     "data": {
      "text/plain": [
       "-0.20542961233995793"
      ]
     },
     "execution_count": 34,
     "metadata": {},
     "output_type": "execute_result"
    }
   ],
   "source": [
    "from sklearn.metrics import r2_score\n",
    "acc=r2_score(y_pred,y_test)\n",
    "acc"
   ]
  },
  {
   "cell_type": "code",
   "execution_count": 35,
   "id": "5040e068",
   "metadata": {},
   "outputs": [
    {
     "name": "stderr",
     "output_type": "stream",
     "text": [
      "C:\\ProgramData\\anaconda3\\lib\\site-packages\\sklearn\\base.py:420: UserWarning: X does not have valid feature names, but LinearRegression was fitted with feature names\n",
      "  warnings.warn(\n"
     ]
    },
    {
     "data": {
      "text/plain": [
       "array([7920521.66290362])"
      ]
     },
     "execution_count": 35,
     "metadata": {},
     "output_type": "execute_result"
    }
   ],
   "source": [
    "#Predict with random Values\n",
    "y_pr=lr.predict([[8960.0,4.0,1.0,4.0,1,0,0,0,1,3.0,0]])\n",
    "y_pr"
   ]
  },
  {
   "cell_type": "code",
   "execution_count": 36,
   "id": "c6b03b32",
   "metadata": {},
   "outputs": [],
   "source": [
    "from sklearn.metrics import mean_squared_error, mean_absolute_error, r2_score"
   ]
  },
  {
   "cell_type": "code",
   "execution_count": 37,
   "id": "d911651a",
   "metadata": {},
   "outputs": [
    {
     "name": "stdout",
     "output_type": "stream",
     "text": [
      "Mean Squared Error (MSE): 2083566035908.751\n",
      "Root Mean Squared Error (RMSE): 1443456.2812599316\n",
      "Mean Absolute Error (MAE): 1036970.1615968277\n",
      "R-squared (R²) Score: 0.5877857197831367\n"
     ]
    }
   ],
   "source": [
    "mse = mean_squared_error(y_test,y_pred)\n",
    "rmse = np.sqrt(mse)\n",
    "mae = mean_absolute_error(y_test,y_pred)\n",
    "r2 = r2_score(y_test,y_pred)\n",
    "\n",
    "print(\"Mean Squared Error (MSE):\", mse)\n",
    "print(\"Root Mean Squared Error (RMSE):\", rmse)\n",
    "print(\"Mean Absolute Error (MAE):\", mae)\n",
    "print(\"R-squared (R²) Score:\", r2)"
   ]
  },
  {
   "cell_type": "markdown",
   "id": "c047acc5",
   "metadata": {},
   "source": [
    "## Random Forest"
   ]
  },
  {
   "cell_type": "code",
   "execution_count": 38,
   "id": "d29342e3",
   "metadata": {},
   "outputs": [],
   "source": [
    "from sklearn.ensemble import RandomForestClassifier"
   ]
  },
  {
   "cell_type": "code",
   "execution_count": 39,
   "id": "81a031ba",
   "metadata": {},
   "outputs": [],
   "source": [
    "rf=RandomForestClassifier(n_estimators=10,criterion='entropy',random_state=0)"
   ]
  },
  {
   "cell_type": "code",
   "execution_count": 40,
   "id": "fe3b55b4",
   "metadata": {},
   "outputs": [
    {
     "data": {
      "text/html": [
       "<style>#sk-container-id-2 {color: black;background-color: white;}#sk-container-id-2 pre{padding: 0;}#sk-container-id-2 div.sk-toggleable {background-color: white;}#sk-container-id-2 label.sk-toggleable__label {cursor: pointer;display: block;width: 100%;margin-bottom: 0;padding: 0.3em;box-sizing: border-box;text-align: center;}#sk-container-id-2 label.sk-toggleable__label-arrow:before {content: \"▸\";float: left;margin-right: 0.25em;color: #696969;}#sk-container-id-2 label.sk-toggleable__label-arrow:hover:before {color: black;}#sk-container-id-2 div.sk-estimator:hover label.sk-toggleable__label-arrow:before {color: black;}#sk-container-id-2 div.sk-toggleable__content {max-height: 0;max-width: 0;overflow: hidden;text-align: left;background-color: #f0f8ff;}#sk-container-id-2 div.sk-toggleable__content pre {margin: 0.2em;color: black;border-radius: 0.25em;background-color: #f0f8ff;}#sk-container-id-2 input.sk-toggleable__control:checked~div.sk-toggleable__content {max-height: 200px;max-width: 100%;overflow: auto;}#sk-container-id-2 input.sk-toggleable__control:checked~label.sk-toggleable__label-arrow:before {content: \"▾\";}#sk-container-id-2 div.sk-estimator input.sk-toggleable__control:checked~label.sk-toggleable__label {background-color: #d4ebff;}#sk-container-id-2 div.sk-label input.sk-toggleable__control:checked~label.sk-toggleable__label {background-color: #d4ebff;}#sk-container-id-2 input.sk-hidden--visually {border: 0;clip: rect(1px 1px 1px 1px);clip: rect(1px, 1px, 1px, 1px);height: 1px;margin: -1px;overflow: hidden;padding: 0;position: absolute;width: 1px;}#sk-container-id-2 div.sk-estimator {font-family: monospace;background-color: #f0f8ff;border: 1px dotted black;border-radius: 0.25em;box-sizing: border-box;margin-bottom: 0.5em;}#sk-container-id-2 div.sk-estimator:hover {background-color: #d4ebff;}#sk-container-id-2 div.sk-parallel-item::after {content: \"\";width: 100%;border-bottom: 1px solid gray;flex-grow: 1;}#sk-container-id-2 div.sk-label:hover label.sk-toggleable__label {background-color: #d4ebff;}#sk-container-id-2 div.sk-serial::before {content: \"\";position: absolute;border-left: 1px solid gray;box-sizing: border-box;top: 0;bottom: 0;left: 50%;z-index: 0;}#sk-container-id-2 div.sk-serial {display: flex;flex-direction: column;align-items: center;background-color: white;padding-right: 0.2em;padding-left: 0.2em;position: relative;}#sk-container-id-2 div.sk-item {position: relative;z-index: 1;}#sk-container-id-2 div.sk-parallel {display: flex;align-items: stretch;justify-content: center;background-color: white;position: relative;}#sk-container-id-2 div.sk-item::before, #sk-container-id-2 div.sk-parallel-item::before {content: \"\";position: absolute;border-left: 1px solid gray;box-sizing: border-box;top: 0;bottom: 0;left: 50%;z-index: -1;}#sk-container-id-2 div.sk-parallel-item {display: flex;flex-direction: column;z-index: 1;position: relative;background-color: white;}#sk-container-id-2 div.sk-parallel-item:first-child::after {align-self: flex-end;width: 50%;}#sk-container-id-2 div.sk-parallel-item:last-child::after {align-self: flex-start;width: 50%;}#sk-container-id-2 div.sk-parallel-item:only-child::after {width: 0;}#sk-container-id-2 div.sk-dashed-wrapped {border: 1px dashed gray;margin: 0 0.4em 0.5em 0.4em;box-sizing: border-box;padding-bottom: 0.4em;background-color: white;}#sk-container-id-2 div.sk-label label {font-family: monospace;font-weight: bold;display: inline-block;line-height: 1.2em;}#sk-container-id-2 div.sk-label-container {text-align: center;}#sk-container-id-2 div.sk-container {/* jupyter's `normalize.less` sets `[hidden] { display: none; }` but bootstrap.min.css set `[hidden] { display: none !important; }` so we also need the `!important` here to be able to override the default hidden behavior on the sphinx rendered scikit-learn.org. See: https://github.com/scikit-learn/scikit-learn/issues/21755 */display: inline-block !important;position: relative;}#sk-container-id-2 div.sk-text-repr-fallback {display: none;}</style><div id=\"sk-container-id-2\" class=\"sk-top-container\"><div class=\"sk-text-repr-fallback\"><pre>RandomForestClassifier(criterion=&#x27;entropy&#x27;, n_estimators=10, random_state=0)</pre><b>In a Jupyter environment, please rerun this cell to show the HTML representation or trust the notebook. <br />On GitHub, the HTML representation is unable to render, please try loading this page with nbviewer.org.</b></div><div class=\"sk-container\" hidden><div class=\"sk-item\"><div class=\"sk-estimator sk-toggleable\"><input class=\"sk-toggleable__control sk-hidden--visually\" id=\"sk-estimator-id-2\" type=\"checkbox\" checked><label for=\"sk-estimator-id-2\" class=\"sk-toggleable__label sk-toggleable__label-arrow\">RandomForestClassifier</label><div class=\"sk-toggleable__content\"><pre>RandomForestClassifier(criterion=&#x27;entropy&#x27;, n_estimators=10, random_state=0)</pre></div></div></div></div></div>"
      ],
      "text/plain": [
       "RandomForestClassifier(criterion='entropy', n_estimators=10, random_state=0)"
      ]
     },
     "execution_count": 40,
     "metadata": {},
     "output_type": "execute_result"
    }
   ],
   "source": [
    "#training the model\n",
    "rf.fit(X_train,y_train)"
   ]
  },
  {
   "cell_type": "code",
   "execution_count": 41,
   "id": "263d1be7",
   "metadata": {},
   "outputs": [],
   "source": [
    "#test the model\n",
    "pred=rf.predict(X_test)"
   ]
  },
  {
   "cell_type": "code",
   "execution_count": 42,
   "id": "ebf87dc2",
   "metadata": {},
   "outputs": [
    {
     "data": {
      "text/plain": [
       "array([ 7455000,  7840000,  3605000,  4382000,  3710000,  2730000,\n",
       "        4830000,  5600000,  1855000,  1767150,  6090000,  3430000,\n",
       "        2653000,  3703000,  4375000,  2940000,  2961000,  4200000,\n",
       "        7455000,  3605000,  5810000,  5523000,  3570000,  7455000,\n",
       "        5803000,  6083000,  3990000,  3570000,  4760000,  4515000,\n",
       "        3990000,  3500000,  6195000,  4235000, 10150000,  8855000,\n",
       "        4900000,  4200000,  3115000,  3885000,  3920000,  2653000,\n",
       "        7840000,  4060000,  3010000,  4760000,  7560000,  3500000,\n",
       "        2450000,  3430000,  6090000,  3150000,  3500000,  4900000,\n",
       "        2100000,  3220000,  6195000,  3836000,  4900000,  3570000,\n",
       "        3640000,  4200000,  3640000,  4865000,  4060000,  3780000,\n",
       "        4270000,  4200000,  7420000,  5740000,  3150000,  3780000,\n",
       "        3500000,  7000000,  3150000,  4130000,  3010000,  4095000,\n",
       "        3500000,  4200000,  7070000,  3640000,  3920000,  6125000,\n",
       "        3836000,  7140000,  3465000,  4585000,  5040000,  5460000,\n",
       "        3080000,  7000000,  3010000,  2940000,  3773000,  4007500,\n",
       "        4900000,  5775000,  2975000,  4893000,  3010000,  3640000,\n",
       "        3920000,  3150000,  4123000,  5950000,  7560000,  8855000,\n",
       "        5950000], dtype=int64)"
      ]
     },
     "execution_count": 42,
     "metadata": {},
     "output_type": "execute_result"
    }
   ],
   "source": [
    "pred"
   ]
  },
  {
   "cell_type": "code",
   "execution_count": 43,
   "id": "e1247c4a",
   "metadata": {},
   "outputs": [
    {
     "data": {
      "text/plain": [
       "316    4060000\n",
       "77     6650000\n",
       "360    3710000\n",
       "90     6440000\n",
       "493    2800000\n",
       "        ...   \n",
       "15     9100000\n",
       "357    3773000\n",
       "39     7910000\n",
       "54     7350000\n",
       "155    5530000\n",
       "Name: price, Length: 109, dtype: int64"
      ]
     },
     "execution_count": 43,
     "metadata": {},
     "output_type": "execute_result"
    }
   ],
   "source": [
    "y_test"
   ]
  },
  {
   "cell_type": "code",
   "execution_count": 44,
   "id": "8ed1fa34",
   "metadata": {},
   "outputs": [],
   "source": [
    "# Evaluate the model\n",
    "from sklearn.metrics import accuracy_score,confusion_matrix,classification_report"
   ]
  },
  {
   "cell_type": "code",
   "execution_count": 45,
   "id": "5df8b7ee",
   "metadata": {},
   "outputs": [],
   "source": [
    "accuracy=accuracy_score(y_test,pred)\n",
    "conmat=confusion_matrix(y_test,pred)"
   ]
  },
  {
   "cell_type": "code",
   "execution_count": 46,
   "id": "52a485c8",
   "metadata": {},
   "outputs": [
    {
     "name": "stdout",
     "output_type": "stream",
     "text": [
      "0.027522935779816515\n"
     ]
    }
   ],
   "source": [
    "print(accuracy)"
   ]
  },
  {
   "cell_type": "code",
   "execution_count": 47,
   "id": "82b0bd22",
   "metadata": {},
   "outputs": [
    {
     "name": "stdout",
     "output_type": "stream",
     "text": [
      "[[0 0 0 ... 0 0 0]\n",
      " [0 0 0 ... 0 0 0]\n",
      " [0 0 0 ... 0 0 0]\n",
      " ...\n",
      " [0 0 0 ... 0 0 0]\n",
      " [0 0 0 ... 0 0 0]\n",
      " [0 0 0 ... 0 0 0]]\n"
     ]
    }
   ],
   "source": [
    "print(conmat)"
   ]
  },
  {
   "cell_type": "code",
   "execution_count": 48,
   "id": "0c5c56d9",
   "metadata": {},
   "outputs": [
    {
     "name": "stdout",
     "output_type": "stream",
     "text": [
      "              precision    recall  f1-score   support\n",
      "\n",
      "     1750000       0.00      0.00      0.00         1\n",
      "     1767150       0.00      0.00      0.00         0\n",
      "     1820000       0.00      0.00      0.00         1\n",
      "     1855000       0.00      0.00      0.00         0\n",
      "     1890000       0.00      0.00      0.00         2\n",
      "     2100000       0.00      0.00      0.00         1\n",
      "     2233000       0.00      0.00      0.00         1\n",
      "     2275000       0.00      0.00      0.00         1\n",
      "     2380000       0.00      0.00      0.00         1\n",
      "     2450000       0.00      0.00      0.00         2\n",
      "     2520000       0.00      0.00      0.00         1\n",
      "     2653000       0.00      0.00      0.00         0\n",
      "     2660000       0.00      0.00      0.00         4\n",
      "     2730000       0.00      0.00      0.00         0\n",
      "     2800000       0.00      0.00      0.00         1\n",
      "     2870000       0.00      0.00      0.00         1\n",
      "     2940000       0.00      0.00      0.00         2\n",
      "     2961000       0.00      0.00      0.00         0\n",
      "     2975000       0.00      0.00      0.00         0\n",
      "     3003000       0.00      0.00      0.00         1\n",
      "     3010000       0.25      1.00      0.40         1\n",
      "     3045000       0.00      0.00      0.00         1\n",
      "     3080000       0.00      0.00      0.00         2\n",
      "     3115000       0.00      0.00      0.00         0\n",
      "     3150000       0.00      0.00      0.00         1\n",
      "     3220000       0.00      0.00      0.00         1\n",
      "     3234000       0.00      0.00      0.00         1\n",
      "     3290000       0.00      0.00      0.00         1\n",
      "     3325000       0.00      0.00      0.00         1\n",
      "     3353000       0.00      0.00      0.00         1\n",
      "     3360000       0.00      0.00      0.00         2\n",
      "     3430000       0.00      0.00      0.00         0\n",
      "     3465000       0.00      0.00      0.00         0\n",
      "     3500000       0.20      0.33      0.25         3\n",
      "     3570000       0.00      0.00      0.00         0\n",
      "     3605000       0.00      0.00      0.00         0\n",
      "     3640000       0.00      0.00      0.00         1\n",
      "     3675000       0.00      0.00      0.00         1\n",
      "     3703000       0.00      0.00      0.00         1\n",
      "     3710000       0.00      0.00      0.00         1\n",
      "     3773000       0.00      0.00      0.00         1\n",
      "     3780000       0.00      0.00      0.00         1\n",
      "     3836000       0.00      0.00      0.00         0\n",
      "     3850000       0.00      0.00      0.00         1\n",
      "     3885000       0.00      0.00      0.00         0\n",
      "     3920000       0.00      0.00      0.00         0\n",
      "     3990000       0.00      0.00      0.00         0\n",
      "     4007500       0.00      0.00      0.00         1\n",
      "     4060000       0.00      0.00      0.00         1\n",
      "     4095000       0.00      0.00      0.00         0\n",
      "     4123000       0.00      0.00      0.00         0\n",
      "     4130000       0.00      0.00      0.00         0\n",
      "     4165000       0.00      0.00      0.00         1\n",
      "     4193000       0.00      0.00      0.00         2\n",
      "     4200000       0.00      0.00      0.00         1\n",
      "     4235000       0.00      0.00      0.00         0\n",
      "     4270000       0.00      0.00      0.00         1\n",
      "     4340000       0.00      0.00      0.00         2\n",
      "     4375000       0.00      0.00      0.00         0\n",
      "     4382000       0.00      0.00      0.00         0\n",
      "     4480000       0.00      0.00      0.00         1\n",
      "     4515000       0.00      0.00      0.00         0\n",
      "     4543000       0.00      0.00      0.00         1\n",
      "     4550000       0.00      0.00      0.00         2\n",
      "     4585000       0.00      0.00      0.00         0\n",
      "     4690000       0.00      0.00      0.00         1\n",
      "     4753000       0.00      0.00      0.00         1\n",
      "     4760000       0.00      0.00      0.00         0\n",
      "     4830000       0.00      0.00      0.00         1\n",
      "     4865000       0.00      0.00      0.00         0\n",
      "     4893000       0.00      0.00      0.00         0\n",
      "     4900000       0.25      0.33      0.29         3\n",
      "     4907000       0.00      0.00      0.00         1\n",
      "     5040000       0.00      0.00      0.00         0\n",
      "     5110000       0.00      0.00      0.00         2\n",
      "     5145000       0.00      0.00      0.00         1\n",
      "     5250000       0.00      0.00      0.00         2\n",
      "     5425000       0.00      0.00      0.00         1\n",
      "     5460000       0.00      0.00      0.00         0\n",
      "     5495000       0.00      0.00      0.00         1\n",
      "     5523000       0.00      0.00      0.00         0\n",
      "     5530000       0.00      0.00      0.00         2\n",
      "     5600000       0.00      0.00      0.00         2\n",
      "     5740000       0.00      0.00      0.00         2\n",
      "     5775000       0.00      0.00      0.00         0\n",
      "     5803000       0.00      0.00      0.00         0\n",
      "     5810000       0.00      0.00      0.00         1\n",
      "     5950000       0.00      0.00      0.00         1\n",
      "     6083000       0.00      0.00      0.00         0\n",
      "     6090000       0.00      0.00      0.00         0\n",
      "     6125000       0.00      0.00      0.00         0\n",
      "     6195000       0.00      0.00      0.00         1\n",
      "     6230000       0.00      0.00      0.00         1\n",
      "     6440000       0.00      0.00      0.00         2\n",
      "     6510000       0.00      0.00      0.00         2\n",
      "     6580000       0.00      0.00      0.00         1\n",
      "     6615000       0.00      0.00      0.00         1\n",
      "     6650000       0.00      0.00      0.00         5\n",
      "     6685000       0.00      0.00      0.00         1\n",
      "     6720000       0.00      0.00      0.00         1\n",
      "     6790000       0.00      0.00      0.00         1\n",
      "     6860000       0.00      0.00      0.00         1\n",
      "     7000000       0.00      0.00      0.00         0\n",
      "     7035000       0.00      0.00      0.00         1\n",
      "     7070000       0.00      0.00      0.00         0\n",
      "     7140000       0.00      0.00      0.00         0\n",
      "     7350000       0.00      0.00      0.00         2\n",
      "     7420000       0.00      0.00      0.00         0\n",
      "     7455000       0.00      0.00      0.00         0\n",
      "     7560000       0.00      0.00      0.00         0\n",
      "     7840000       0.00      0.00      0.00         0\n",
      "     7910000       0.00      0.00      0.00         1\n",
      "     8190000       0.00      0.00      0.00         1\n",
      "     8400000       0.00      0.00      0.00         1\n",
      "     8645000       0.00      0.00      0.00         1\n",
      "     8855000       0.00      0.00      0.00         0\n",
      "     8890000       0.00      0.00      0.00         1\n",
      "     9100000       0.00      0.00      0.00         1\n",
      "     9681000       0.00      0.00      0.00         1\n",
      "     9800000       0.00      0.00      0.00         2\n",
      "    10150000       0.00      0.00      0.00         1\n",
      "    12250000       0.00      0.00      0.00         1\n",
      "    13300000       0.00      0.00      0.00         1\n",
      "\n",
      "    accuracy                           0.03       109\n",
      "   macro avg       0.01      0.01      0.01       109\n",
      "weighted avg       0.01      0.03      0.02       109\n",
      "\n"
     ]
    },
    {
     "name": "stderr",
     "output_type": "stream",
     "text": [
      "C:\\ProgramData\\anaconda3\\lib\\site-packages\\sklearn\\metrics\\_classification.py:1344: UndefinedMetricWarning: Precision and F-score are ill-defined and being set to 0.0 in labels with no predicted samples. Use `zero_division` parameter to control this behavior.\n",
      "  _warn_prf(average, modifier, msg_start, len(result))\n",
      "C:\\ProgramData\\anaconda3\\lib\\site-packages\\sklearn\\metrics\\_classification.py:1344: UndefinedMetricWarning: Recall and F-score are ill-defined and being set to 0.0 in labels with no true samples. Use `zero_division` parameter to control this behavior.\n",
      "  _warn_prf(average, modifier, msg_start, len(result))\n",
      "C:\\ProgramData\\anaconda3\\lib\\site-packages\\sklearn\\metrics\\_classification.py:1344: UndefinedMetricWarning: Precision and F-score are ill-defined and being set to 0.0 in labels with no predicted samples. Use `zero_division` parameter to control this behavior.\n",
      "  _warn_prf(average, modifier, msg_start, len(result))\n",
      "C:\\ProgramData\\anaconda3\\lib\\site-packages\\sklearn\\metrics\\_classification.py:1344: UndefinedMetricWarning: Recall and F-score are ill-defined and being set to 0.0 in labels with no true samples. Use `zero_division` parameter to control this behavior.\n",
      "  _warn_prf(average, modifier, msg_start, len(result))\n",
      "C:\\ProgramData\\anaconda3\\lib\\site-packages\\sklearn\\metrics\\_classification.py:1344: UndefinedMetricWarning: Precision and F-score are ill-defined and being set to 0.0 in labels with no predicted samples. Use `zero_division` parameter to control this behavior.\n",
      "  _warn_prf(average, modifier, msg_start, len(result))\n",
      "C:\\ProgramData\\anaconda3\\lib\\site-packages\\sklearn\\metrics\\_classification.py:1344: UndefinedMetricWarning: Recall and F-score are ill-defined and being set to 0.0 in labels with no true samples. Use `zero_division` parameter to control this behavior.\n",
      "  _warn_prf(average, modifier, msg_start, len(result))\n"
     ]
    }
   ],
   "source": [
    "print(classification_report(y_test,pred))"
   ]
  },
  {
   "cell_type": "code",
   "execution_count": 49,
   "id": "3113a5be",
   "metadata": {},
   "outputs": [
    {
     "name": "stdout",
     "output_type": "stream",
     "text": [
      "Mean Squared Error (MSE): 4935066199288.991\n",
      "Root Mean Squared Error (RMSE): 2221500.888878731\n",
      "Mean Absolute Error (MAE): 1617099.5412844038\n",
      "R-squared (R²) Score: 0.023642771046026856\n"
     ]
    }
   ],
   "source": [
    "mse = mean_squared_error(y_test,pred)\n",
    "rmse = np.sqrt(mse)\n",
    "mae = mean_absolute_error(y_test,pred)\n",
    "r2 = r2_score(y_test,pred)\n",
    "\n",
    "print(\"Mean Squared Error (MSE):\", mse)\n",
    "print(\"Root Mean Squared Error (RMSE):\", rmse)\n",
    "print(\"Mean Absolute Error (MAE):\", mae)\n",
    "print(\"R-squared (R²) Score:\", r2)"
   ]
  },
  {
   "cell_type": "code",
   "execution_count": null,
   "id": "a985e001",
   "metadata": {},
   "outputs": [],
   "source": []
  },
  {
   "cell_type": "code",
   "execution_count": null,
   "id": "7f7ef19b",
   "metadata": {},
   "outputs": [],
   "source": []
  },
  {
   "cell_type": "code",
   "execution_count": null,
   "id": "fd90f275",
   "metadata": {},
   "outputs": [],
   "source": []
  }
 ],
 "metadata": {
  "kernelspec": {
   "display_name": "Python 3 (ipykernel)",
   "language": "python",
   "name": "python3"
  },
  "language_info": {
   "codemirror_mode": {
    "name": "ipython",
    "version": 3
   },
   "file_extension": ".py",
   "mimetype": "text/x-python",
   "name": "python",
   "nbconvert_exporter": "python",
   "pygments_lexer": "ipython3",
   "version": "3.10.9"
  }
 },
 "nbformat": 4,
 "nbformat_minor": 5
}
