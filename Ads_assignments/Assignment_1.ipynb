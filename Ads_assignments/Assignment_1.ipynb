{
 "cells": [
  {
   "cell_type": "markdown",
   "id": "b73ad0ce",
   "metadata": {},
   "source": [
    "# NAME : SUJANA KOLA\n",
    "# Reg No : 20MIS0171"
   ]
  },
  {
   "cell_type": "raw",
   "id": "86ddc216",
   "metadata": {},
   "source": [
    "1. Assign your Name to variable name and Age to variable age. Make a Python program that prints your name and age."
   ]
  },
  {
   "cell_type": "code",
   "execution_count": 4,
   "id": "dd9f1b7d",
   "metadata": {
    "scrolled": true
   },
   "outputs": [
    {
     "name": "stdout",
     "output_type": "stream",
     "text": [
      "Sujana\n",
      "19\n"
     ]
    }
   ],
   "source": [
    "name='Sujana'\n",
    "age=19\n",
    "print(name)\n",
    "print(age)"
   ]
  },
  {
   "cell_type": "raw",
   "id": "2f3a6c23",
   "metadata": {},
   "source": [
    "2. X=\"Datascience is used to extract meaningful insights.\"\n",
    "Split the string"
   ]
  },
  {
   "cell_type": "code",
   "execution_count": 6,
   "id": "172758a0",
   "metadata": {},
   "outputs": [
    {
     "name": "stdout",
     "output_type": "stream",
     "text": [
      "['Datascience', 'is', 'used', 'to', 'extract', 'meaningful', 'insights']\n"
     ]
    }
   ],
   "source": [
    "X= \"Datascience is used to extract meaningful insights\"\n",
    "split_str=X.split()\n",
    "print(split_str)"
   ]
  },
  {
   "cell_type": "raw",
   "id": "fff71400",
   "metadata": {},
   "source": [
    "3. Make a function that gives multiplication of two numbers"
   ]
  },
  {
   "cell_type": "code",
   "execution_count": 16,
   "id": "8cfefdda",
   "metadata": {},
   "outputs": [
    {
     "name": "stdout",
     "output_type": "stream",
     "text": [
      "Enter the first number:4\n",
      "Enter the second number:6\n",
      "The multiplication of 4 and 6 is 24\n"
     ]
    }
   ],
   "source": [
    "def multiplication(a,b):\n",
    "    x=a*b\n",
    "    print('The multiplication of',a,'and',b ,'is',x)\n",
    "a=int(input(\"Enter the first number:\"))\n",
    "b=int(input(\"Enter the second number:\"))\n",
    "multiplication(a,b)"
   ]
  },
  {
   "cell_type": "raw",
   "id": "2a7a0233",
   "metadata": {},
   "source": [
    "4. Create a Dictionary of 5 States with their capitals. also print the keys and values."
   ]
  },
  {
   "cell_type": "code",
   "execution_count": 21,
   "id": "1e3c718f",
   "metadata": {},
   "outputs": [
    {
     "data": {
      "text/plain": [
       "dict_keys(['Hyderabad', 'Mumbai', 'Bangalore', 'Itanagar', 'Kolkata'])"
      ]
     },
     "execution_count": 21,
     "metadata": {},
     "output_type": "execute_result"
    }
   ],
   "source": [
    "d={'Hyderabad':'Telangana','Mumbai':'Maharashtra','Bangalore':'Karnataka','Itanagar':'Arunachal Pradesh','Kolkata':'West Bengal'}\n",
    "d.keys()"
   ]
  },
  {
   "cell_type": "code",
   "execution_count": 22,
   "id": "1d75f51e",
   "metadata": {},
   "outputs": [
    {
     "data": {
      "text/plain": [
       "dict_values(['Telangana', 'Maharashtra', 'Karnataka', 'Arunachal Pradesh', 'West Bengal'])"
      ]
     },
     "execution_count": 22,
     "metadata": {},
     "output_type": "execute_result"
    }
   ],
   "source": [
    "d={'Hyderabad':'Telangana','Mumbai':'Maharashtra','Bangalore':'Karnataka','Itanagar':'Arunachal Pradesh','Kolkata':'West Bengal'}\n",
    "d.values()"
   ]
  },
  {
   "cell_type": "raw",
   "id": "2103088f",
   "metadata": {},
   "source": [
    "5. Create a list of 1000 numbers using range function."
   ]
  },
  {
   "cell_type": "code",
   "execution_count": 32,
   "id": "a08dbf01",
   "metadata": {},
   "outputs": [
    {
     "name": "stdout",
     "output_type": "stream",
     "text": [
      "[   0    1    2 ...  998  999 1000]\n"
     ]
    }
   ],
   "source": [
    "import numpy as np\n",
    "y=np.arange(1001)\n",
    "print(y)"
   ]
  },
  {
   "cell_type": "raw",
   "id": "5ed0c757",
   "metadata": {},
   "source": [
    "6. Create an identity matrix of dimension 4 by 4"
   ]
  },
  {
   "cell_type": "code",
   "execution_count": 38,
   "id": "2c0a199f",
   "metadata": {},
   "outputs": [
    {
     "data": {
      "text/plain": [
       "array([[1., 0., 0., 0.],\n",
       "       [0., 1., 0., 0.],\n",
       "       [0., 0., 1., 0.],\n",
       "       [0., 0., 0., 1.]])"
      ]
     },
     "execution_count": 38,
     "metadata": {},
     "output_type": "execute_result"
    }
   ],
   "source": [
    "var=np.eye((4))\n",
    "var"
   ]
  },
  {
   "cell_type": "raw",
   "id": "d172d52f",
   "metadata": {},
   "source": [
    "7. Create a 3x3 matrix with values ranging from 1 to 9"
   ]
  },
  {
   "cell_type": "code",
   "execution_count": 43,
   "id": "3990453f",
   "metadata": {},
   "outputs": [
    {
     "data": {
      "text/plain": [
       "array([[[1, 2, 3],\n",
       "        [4, 5, 6],\n",
       "        [7, 8, 9]]])"
      ]
     },
     "execution_count": 43,
     "metadata": {},
     "output_type": "execute_result"
    }
   ],
   "source": [
    "m=np.arange(1,10).reshape(1,3,3)\n",
    "m"
   ]
  },
  {
   "cell_type": "raw",
   "id": "a777100c",
   "metadata": {},
   "source": [
    "8. Create 2 similar dimensional array and perform sum on them."
   ]
  },
  {
   "cell_type": "code",
   "execution_count": 44,
   "id": "23739423",
   "metadata": {},
   "outputs": [
    {
     "name": "stdout",
     "output_type": "stream",
     "text": [
      "    0   1   2\n",
      "0  11  13  15\n",
      "1  17  19  21\n",
      "2  23  25  27\n"
     ]
    }
   ],
   "source": [
    "import pandas as pd\n",
    "array1 = pd.DataFrame([[1, 2, 3], [4, 5, 6], [7, 8, 9]])\n",
    "array2 = pd.DataFrame([[10, 11, 12], [13, 14, 15], [16, 17, 18]])\n",
    "result = array1 + array2\n",
    "print(result)"
   ]
  },
  {
   "cell_type": "raw",
   "id": "964e3cba",
   "metadata": {},
   "source": [
    "9. Generate the series of dates from 1st Feb, 2023 to 1st March, 2023 (both inclusive)"
   ]
  },
  {
   "cell_type": "code",
   "execution_count": 50,
   "id": "8df07c77",
   "metadata": {},
   "outputs": [
    {
     "name": "stdout",
     "output_type": "stream",
     "text": [
      "DatetimeIndex(['2023-02-01', '2023-02-02', '2023-02-03', '2023-02-04',\n",
      "               '2023-02-05', '2023-02-06', '2023-02-07', '2023-02-08',\n",
      "               '2023-02-09', '2023-02-10', '2023-02-11', '2023-02-12',\n",
      "               '2023-02-13', '2023-02-14', '2023-02-15', '2023-02-16',\n",
      "               '2023-02-17', '2023-02-18', '2023-02-19', '2023-02-20',\n",
      "               '2023-02-21', '2023-02-22', '2023-02-23', '2023-02-24',\n",
      "               '2023-02-25', '2023-02-26', '2023-02-27', '2023-02-28',\n",
      "               '2023-03-01'],\n",
      "              dtype='datetime64[ns]', freq='D')\n"
     ]
    }
   ],
   "source": [
    "import pandas as pd\n",
    "\n",
    "start_date = pd.to_datetime('2023-02-01')\n",
    "end_date = pd.to_datetime('2023-03-01')\n",
    "\n",
    "date_series = pd.date_range(start=start_date, end=end_date)\n",
    "\n",
    "print(date_series)"
   ]
  },
  {
   "cell_type": "raw",
   "id": "f1d8719a",
   "metadata": {},
   "source": [
    "10. Given a dictionary, convert it into corresponding dataframe and display it\n",
    "dictionary = {'Brand': ['Maruti', 'Renault', 'Hyndai'], 'Sales' : [250, 200, 240]}"
   ]
  },
  {
   "cell_type": "code",
   "execution_count": 51,
   "id": "1ea543cf",
   "metadata": {},
   "outputs": [
    {
     "name": "stdout",
     "output_type": "stream",
     "text": [
      "     Brand  Sales\n",
      "0   Maruti    250\n",
      "1  Renault    200\n",
      "2  Hyundai    240\n"
     ]
    }
   ],
   "source": [
    "import pandas as pd\n",
    "dictionary = {'Brand': ['Maruti', 'Renault', 'Hyundai'], 'Sales': [250, 200, 240]}\n",
    "df = pd.DataFrame(dictionary)\n",
    "print(df)"
   ]
  }
 ],
 "metadata": {
  "kernelspec": {
   "display_name": "Python 3 (ipykernel)",
   "language": "python",
   "name": "python3"
  },
  "language_info": {
   "codemirror_mode": {
    "name": "ipython",
    "version": 3
   },
   "file_extension": ".py",
   "mimetype": "text/x-python",
   "name": "python",
   "nbconvert_exporter": "python",
   "pygments_lexer": "ipython3",
   "version": "3.10.9"
  }
 },
 "nbformat": 4,
 "nbformat_minor": 5
}
